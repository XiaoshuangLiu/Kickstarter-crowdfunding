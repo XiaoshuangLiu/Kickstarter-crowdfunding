{
 "cells": [
  {
   "cell_type": "markdown",
   "metadata": {
    "id": "XOE0Bh9fihVz"
   },
   "source": [
    "**Using Selenium to scrape a website**\r\n",
    "\r\n",
    "Some websites use scripts (for example, JavaScript) to generate content dynamically. In this case, we need to use Selenium so our computer program acts as if human browsing. Specifically, our computer will launch a browser (for example, Chrome) and download the web page."
   ]
  },
  {
   "cell_type": "markdown",
   "metadata": {
    "id": "EaiSuNZznR9p"
   },
   "source": [
    "Need to install the selenium package\r\n",
    "\r\n",
    "Need to download chromedriver. Find out your Chrome version and download the corresponding driver here: https://chromedriver.chromium.org/"
   ]
  },
  {
   "cell_type": "code",
   "execution_count": 1,
   "metadata": {},
   "outputs": [],
   "source": [
    "import time\n",
    "from time import strftime\n",
    "import selenium\n",
    "from selenium import webdriver\n",
    "import csv"
   ]
  },
  {
   "cell_type": "code",
   "execution_count": null,
   "metadata": {
    "colab": {
     "base_uri": "https://localhost:8080/",
     "height": 363
    },
    "id": "D-gA9a7riNap",
    "outputId": "a527346e-d67d-42f4-c4f6-3536142f95a4"
   },
   "outputs": [],
   "source": [
    "csvfile = 'data//project_lists.csv' # csv file that contains the list of projects\r\n",
    "page_directory = 'C:/Users/liaop/Documents/kickstarter/updates/'  # the folder to store the html files\r\n",
    "\r\n",
    "idFile = open(csvfile,'r')  # a list of projects (each row has two columns: unique_id and project_url, is stored in the csvfile)\r\n",
    "projects = csv.reader(idFile, delimiter=',',quoting=csv.QUOTE_ALL) # read the list omedriver.exe'\r\n",
    "browser = webdriver.Chrome(fb)\r\n",
    "\r\n",
    "i = 0\r\n",
    "for project in projects: # iterate to download updates for all projects\r\n",
    "\r\n",
    "    i = i + 1\r\n",
    "\r\n",
    "    unique_id = project[0] # example: 11111111\r\n",
    "    project_url = project[1]  # example: https://www.kickstarter.com/projects/jj1/cinemoco-motor-control-for-your-camera\r\n",
    "    url = project_url + '/posts'\r\n",
    "\r\n",
    "    print(i, unique_id, url)\r\n",
    "\r\n",
    "    browser.get(url)\r\n",
    "\r\n",
    "    time.sleep(10) # wait for 10 seconds for the webpage to load\r\n",
    "\r\n",
    "    html_file_name = unique_id + '_'  + strftime(\"%Y-%m-%d-%H-%M-%S\")\r\n",
    "    product_page_name = html_file_name + \".html\"\r\n",
    "    product_content = browser.page_source.encode('utf8')\r\n",
    "    product_f = open(page_directory + product_page_name,'wb')\r\n",
    "    product_f.write(product_content)\r\n",
    "    product_f.close"
   ]
  },
  {
   "cell_type": "markdown",
   "metadata": {
    "id": "2Y9ybm_eolJb"
   },
   "source": [
    "I added more codes to deal with some tricky issues (for example, updates not fully loaded)"
   ]
  },
  {
   "cell_type": "code",
   "execution_count": null,
   "metadata": {
    "id": "9eKV7jwDooDX"
   },
   "outputs": [],
   "source": [
    "import time\r\n",
    "from time import strftime\r\n",
    "import selenium\r\n",
    "from selenium import webdriver\r\n",
    "import csv\r\n",
    "\r\n",
    "\r\n",
    "csvfile = 'C:/Users/liaop/Dropbox/python/project_lists.csv' # csv file that contains the list of projects\r\n",
    "page_directory = 'C:/Users/liaop/Documents/kickstarter/updates/'  # the folder to store the html files\r\n",
    "\r\n",
    "idFile = open(csvfile,'r')  # a list of projects (each row has two columns: unique_id and project_url, is stored in the csvfile)\r\n",
    "projects = csv.reader(idFile, delimiter=',',quoting=csv.QUOTE_ALL) # read the list of projects\r\n",
    "\r\n",
    "fb = 'C:/Users/liaop/Dropbox/chromedriver.exe'\r\n",
    "browser = webdriver.Chrome(fb)\r\n",
    "\r\n",
    "i = 0\r\n",
    "for project in projects: # iterate to download updates for all projects\r\n",
    "\r\n",
    "    i = i + 1\r\n",
    "\r\n",
    "    unique_id = project[0] # example: 11111111\r\n",
    "    project_url = project[1]  # example: https://www.kickstarter.com/projects/jj1/cinemoco-motor-control-for-your-camera\r\n",
    "    url = project_url + '/posts'\r\n",
    "\r\n",
    "    print(i, unique_id, url)\r\n",
    "\r\n",
    "    browser.get(url)\r\n",
    "\r\n",
    "    time.sleep(10) # wait for 10 seconds for the webpage to load\r\n",
    "\r\n",
    "    j = 0\r\n",
    "    error = 0\r\n",
    "    while True:\r\n",
    "        j += 1\r\n",
    "        print(j)\r\n",
    "        if j > 60:\r\n",
    "            break\r\n",
    "        try:\r\n",
    "            \r\n",
    "            while True:\r\n",
    "                problem = browser.find_elements_by_xpath(\"//h3[@class='mb2 soft-black']\")  ## issue loading updates\r\n",
    "                if len(problem)>0:\r\n",
    "                    time.sleep(30*60)\r\n",
    "                    print(\"Sleeping for 30 min...\")\r\n",
    "                    browser.refresh()\r\n",
    "                else:\r\n",
    "                    break\r\n",
    "                #input(\"Double check. Press enter to continue\")\r\n",
    "                \r\n",
    "            \r\n",
    "            browser.find_element_by_xpath(\"//span[text()='Load more']\").click()\r\n",
    "            time.sleep(7)\r\n",
    "        except:\r\n",
    "            error += 1\r\n",
    "            print(error, \"error...\")\r\n",
    "            if error > 5:\r\n",
    "                break\r\n",
    "\r\n",
    "\r\n",
    "    html_file_name = unique_id + '_'  + strftime(\"%Y-%m-%d-%H-%M-%S\")\r\n",
    "    product_page_name = html_file_name + \".html\"\r\n",
    "\r\n",
    "    product_content = browser.page_source.encode('utf8')\r\n",
    "\r\n",
    "    product_f = open(page_directory + product_page_name,'wb')\r\n",
    "    product_f.write(product_content)\r\n",
    "    product_f.close"
   ]
  }
 ],
 "metadata": {
  "colab": {
   "name": "Using Selenium to Download a Webpage.ipynb",
   "provenance": []
  },
  "kernelspec": {
   "display_name": "Python 3",
   "language": "python",
   "name": "python3"
  },
  "language_info": {
   "codemirror_mode": {
    "name": "ipython",
    "version": 3
   },
   "file_extension": ".py",
   "mimetype": "text/x-python",
   "name": "python",
   "nbconvert_exporter": "python",
   "pygments_lexer": "ipython3",
   "version": "3.9.1"
  }
 },
 "nbformat": 4,
 "nbformat_minor": 4
}
